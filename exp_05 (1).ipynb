{
  "nbformat": 4,
  "nbformat_minor": 0,
  "metadata": {
    "colab": {
      "provenance": []
    },
    "kernelspec": {
      "name": "python3",
      "display_name": "Python 3"
    },
    "language_info": {
      "name": "python"
    },
    "accelerator": "GPU",
    "gpuClass": "standard"
  },
  "cells": [
    {
      "cell_type": "code",
      "execution_count": 2,
      "metadata": {
        "id": "_hNVnr1G8u21"
      },
      "outputs": [],
      "source": [
        "\n",
        "import numpy as np\n",
        "import matplotlib.pyplot as plt\n",
        "import pandas as pd\n",
        "from sklearn.preprocessing import MinMaxScaler\n",
        "from keras import layers\n",
        "from keras.models import Sequential"
      ]
    },
    {
      "cell_type": "code",
      "source": [
        "dataset_train = pd.read_csv('trainset.csv')\n"
      ],
      "metadata": {
        "id": "SA3mMCFG9H20"
      },
      "execution_count": 3,
      "outputs": []
    },
    {
      "cell_type": "code",
      "source": [
        "dataset_train.columns\n"
      ],
      "metadata": {
        "colab": {
          "base_uri": "https://localhost:8080/"
        },
        "id": "D5oQH3pL9K6D",
        "outputId": "4f43c3f1-2860-4507-ef62-6441c3f54811"
      },
      "execution_count": 4,
      "outputs": [
        {
          "output_type": "execute_result",
          "data": {
            "text/plain": [
              "Index(['Date', 'Open', 'High', 'Low', 'Close', 'Adj Close', 'Volume'], dtype='object')"
            ]
          },
          "metadata": {},
          "execution_count": 4
        }
      ]
    },
    {
      "cell_type": "code",
      "source": [
        "dataset_train.head()\n"
      ],
      "metadata": {
        "colab": {
          "base_uri": "https://localhost:8080/",
          "height": 206
        },
        "id": "0qh4hE8T9M4B",
        "outputId": "30c2122d-9168-49cf-837b-84ce47788459"
      },
      "execution_count": 5,
      "outputs": [
        {
          "output_type": "execute_result",
          "data": {
            "text/plain": [
              "         Date        Open        High         Low       Close   Adj Close  \\\n",
              "0  2013-01-02  357.385559  361.151062  355.959839  359.288177  359.288177   \n",
              "1  2013-01-03  360.122742  363.600128  358.031342  359.496826  359.496826   \n",
              "2  2013-01-04  362.313507  368.339294  361.488861  366.600616  366.600616   \n",
              "3  2013-01-07  365.348755  367.301056  362.929504  365.001007  365.001007   \n",
              "4  2013-01-08  365.393463  365.771027  359.874359  364.280701  364.280701   \n",
              "\n",
              "    Volume  \n",
              "0  5115500  \n",
              "1  4666500  \n",
              "2  5562800  \n",
              "3  3332900  \n",
              "4  3373900  "
            ],
            "text/html": [
              "\n",
              "  <div id=\"df-19239e57-5f20-47fa-b96f-3092cd28ea7f\">\n",
              "    <div class=\"colab-df-container\">\n",
              "      <div>\n",
              "<style scoped>\n",
              "    .dataframe tbody tr th:only-of-type {\n",
              "        vertical-align: middle;\n",
              "    }\n",
              "\n",
              "    .dataframe tbody tr th {\n",
              "        vertical-align: top;\n",
              "    }\n",
              "\n",
              "    .dataframe thead th {\n",
              "        text-align: right;\n",
              "    }\n",
              "</style>\n",
              "<table border=\"1\" class=\"dataframe\">\n",
              "  <thead>\n",
              "    <tr style=\"text-align: right;\">\n",
              "      <th></th>\n",
              "      <th>Date</th>\n",
              "      <th>Open</th>\n",
              "      <th>High</th>\n",
              "      <th>Low</th>\n",
              "      <th>Close</th>\n",
              "      <th>Adj Close</th>\n",
              "      <th>Volume</th>\n",
              "    </tr>\n",
              "  </thead>\n",
              "  <tbody>\n",
              "    <tr>\n",
              "      <th>0</th>\n",
              "      <td>2013-01-02</td>\n",
              "      <td>357.385559</td>\n",
              "      <td>361.151062</td>\n",
              "      <td>355.959839</td>\n",
              "      <td>359.288177</td>\n",
              "      <td>359.288177</td>\n",
              "      <td>5115500</td>\n",
              "    </tr>\n",
              "    <tr>\n",
              "      <th>1</th>\n",
              "      <td>2013-01-03</td>\n",
              "      <td>360.122742</td>\n",
              "      <td>363.600128</td>\n",
              "      <td>358.031342</td>\n",
              "      <td>359.496826</td>\n",
              "      <td>359.496826</td>\n",
              "      <td>4666500</td>\n",
              "    </tr>\n",
              "    <tr>\n",
              "      <th>2</th>\n",
              "      <td>2013-01-04</td>\n",
              "      <td>362.313507</td>\n",
              "      <td>368.339294</td>\n",
              "      <td>361.488861</td>\n",
              "      <td>366.600616</td>\n",
              "      <td>366.600616</td>\n",
              "      <td>5562800</td>\n",
              "    </tr>\n",
              "    <tr>\n",
              "      <th>3</th>\n",
              "      <td>2013-01-07</td>\n",
              "      <td>365.348755</td>\n",
              "      <td>367.301056</td>\n",
              "      <td>362.929504</td>\n",
              "      <td>365.001007</td>\n",
              "      <td>365.001007</td>\n",
              "      <td>3332900</td>\n",
              "    </tr>\n",
              "    <tr>\n",
              "      <th>4</th>\n",
              "      <td>2013-01-08</td>\n",
              "      <td>365.393463</td>\n",
              "      <td>365.771027</td>\n",
              "      <td>359.874359</td>\n",
              "      <td>364.280701</td>\n",
              "      <td>364.280701</td>\n",
              "      <td>3373900</td>\n",
              "    </tr>\n",
              "  </tbody>\n",
              "</table>\n",
              "</div>\n",
              "      <button class=\"colab-df-convert\" onclick=\"convertToInteractive('df-19239e57-5f20-47fa-b96f-3092cd28ea7f')\"\n",
              "              title=\"Convert this dataframe to an interactive table.\"\n",
              "              style=\"display:none;\">\n",
              "        \n",
              "  <svg xmlns=\"http://www.w3.org/2000/svg\" height=\"24px\"viewBox=\"0 0 24 24\"\n",
              "       width=\"24px\">\n",
              "    <path d=\"M0 0h24v24H0V0z\" fill=\"none\"/>\n",
              "    <path d=\"M18.56 5.44l.94 2.06.94-2.06 2.06-.94-2.06-.94-.94-2.06-.94 2.06-2.06.94zm-11 1L8.5 8.5l.94-2.06 2.06-.94-2.06-.94L8.5 2.5l-.94 2.06-2.06.94zm10 10l.94 2.06.94-2.06 2.06-.94-2.06-.94-.94-2.06-.94 2.06-2.06.94z\"/><path d=\"M17.41 7.96l-1.37-1.37c-.4-.4-.92-.59-1.43-.59-.52 0-1.04.2-1.43.59L10.3 9.45l-7.72 7.72c-.78.78-.78 2.05 0 2.83L4 21.41c.39.39.9.59 1.41.59.51 0 1.02-.2 1.41-.59l7.78-7.78 2.81-2.81c.8-.78.8-2.07 0-2.86zM5.41 20L4 18.59l7.72-7.72 1.47 1.35L5.41 20z\"/>\n",
              "  </svg>\n",
              "      </button>\n",
              "      \n",
              "  <style>\n",
              "    .colab-df-container {\n",
              "      display:flex;\n",
              "      flex-wrap:wrap;\n",
              "      gap: 12px;\n",
              "    }\n",
              "\n",
              "    .colab-df-convert {\n",
              "      background-color: #E8F0FE;\n",
              "      border: none;\n",
              "      border-radius: 50%;\n",
              "      cursor: pointer;\n",
              "      display: none;\n",
              "      fill: #1967D2;\n",
              "      height: 32px;\n",
              "      padding: 0 0 0 0;\n",
              "      width: 32px;\n",
              "    }\n",
              "\n",
              "    .colab-df-convert:hover {\n",
              "      background-color: #E2EBFA;\n",
              "      box-shadow: 0px 1px 2px rgba(60, 64, 67, 0.3), 0px 1px 3px 1px rgba(60, 64, 67, 0.15);\n",
              "      fill: #174EA6;\n",
              "    }\n",
              "\n",
              "    [theme=dark] .colab-df-convert {\n",
              "      background-color: #3B4455;\n",
              "      fill: #D2E3FC;\n",
              "    }\n",
              "\n",
              "    [theme=dark] .colab-df-convert:hover {\n",
              "      background-color: #434B5C;\n",
              "      box-shadow: 0px 1px 3px 1px rgba(0, 0, 0, 0.15);\n",
              "      filter: drop-shadow(0px 1px 2px rgba(0, 0, 0, 0.3));\n",
              "      fill: #FFFFFF;\n",
              "    }\n",
              "  </style>\n",
              "\n",
              "      <script>\n",
              "        const buttonEl =\n",
              "          document.querySelector('#df-19239e57-5f20-47fa-b96f-3092cd28ea7f button.colab-df-convert');\n",
              "        buttonEl.style.display =\n",
              "          google.colab.kernel.accessAllowed ? 'block' : 'none';\n",
              "\n",
              "        async function convertToInteractive(key) {\n",
              "          const element = document.querySelector('#df-19239e57-5f20-47fa-b96f-3092cd28ea7f');\n",
              "          const dataTable =\n",
              "            await google.colab.kernel.invokeFunction('convertToInteractive',\n",
              "                                                     [key], {});\n",
              "          if (!dataTable) return;\n",
              "\n",
              "          const docLinkHtml = 'Like what you see? Visit the ' +\n",
              "            '<a target=\"_blank\" href=https://colab.research.google.com/notebooks/data_table.ipynb>data table notebook</a>'\n",
              "            + ' to learn more about interactive tables.';\n",
              "          element.innerHTML = '';\n",
              "          dataTable['output_type'] = 'display_data';\n",
              "          await google.colab.output.renderOutput(dataTable, element);\n",
              "          const docLink = document.createElement('div');\n",
              "          docLink.innerHTML = docLinkHtml;\n",
              "          element.appendChild(docLink);\n",
              "        }\n",
              "      </script>\n",
              "    </div>\n",
              "  </div>\n",
              "  "
            ]
          },
          "metadata": {},
          "execution_count": 5
        }
      ]
    },
    {
      "cell_type": "code",
      "source": [
        "train_set = dataset_train.iloc[:,1:2].values\n"
      ],
      "metadata": {
        "id": "wk7UPUmL9PGT"
      },
      "execution_count": 6,
      "outputs": []
    },
    {
      "cell_type": "code",
      "source": [
        "type(train_set)\n"
      ],
      "metadata": {
        "colab": {
          "base_uri": "https://localhost:8080/"
        },
        "id": "zvryjOGp9lEJ",
        "outputId": "a0bf7cff-2b0e-48bc-fa7b-ab4b6edc124d"
      },
      "execution_count": 7,
      "outputs": [
        {
          "output_type": "execute_result",
          "data": {
            "text/plain": [
              "numpy.ndarray"
            ]
          },
          "metadata": {},
          "execution_count": 7
        }
      ]
    },
    {
      "cell_type": "code",
      "source": [
        "train_set.shape\n"
      ],
      "metadata": {
        "colab": {
          "base_uri": "https://localhost:8080/"
        },
        "id": "S7eEHsUj9wD2",
        "outputId": "9f6a46e8-34fc-42f8-d907-b115c7ac8209"
      },
      "execution_count": 8,
      "outputs": [
        {
          "output_type": "execute_result",
          "data": {
            "text/plain": [
              "(1259, 1)"
            ]
          },
          "metadata": {},
          "execution_count": 8
        }
      ]
    },
    {
      "cell_type": "code",
      "source": [
        "sc = MinMaxScaler(feature_range=(0,1))\n",
        "training_set_scaled = sc.fit_transform(train_set)"
      ],
      "metadata": {
        "id": "65ZDEa4u9yYu"
      },
      "execution_count": 9,
      "outputs": []
    },
    {
      "cell_type": "code",
      "source": [
        "training_set_scaled.shape"
      ],
      "metadata": {
        "colab": {
          "base_uri": "https://localhost:8080/"
        },
        "id": "ISttWuNJ92lm",
        "outputId": "060a1c1c-6969-42c6-a060-3c6578560c37"
      },
      "execution_count": 10,
      "outputs": [
        {
          "output_type": "execute_result",
          "data": {
            "text/plain": [
              "(1259, 1)"
            ]
          },
          "metadata": {},
          "execution_count": 10
        }
      ]
    },
    {
      "cell_type": "code",
      "source": [
        "X_train_array = []\n",
        "y_train_array = []\n",
        "for i in range(60, 1259):\n",
        "  X_train_array.append(training_set_scaled[i-60:i,0])\n",
        "  y_train_array.append(training_set_scaled[i,0])\n",
        "X_train, y_train = np.array(X_train_array), np.array(y_train_array)\n",
        "X_train1 = X_train.reshape((X_train.shape[0], X_train.shape[1],1))"
      ],
      "metadata": {
        "id": "wT0wh0cT952m"
      },
      "execution_count": 11,
      "outputs": []
    },
    {
      "cell_type": "code",
      "source": [
        "X_train.shape\n"
      ],
      "metadata": {
        "colab": {
          "base_uri": "https://localhost:8080/"
        },
        "id": "M7zWR1R399cM",
        "outputId": "d572407e-0aed-4bf5-e154-0362f57de980"
      },
      "execution_count": 12,
      "outputs": [
        {
          "output_type": "execute_result",
          "data": {
            "text/plain": [
              "(1199, 60)"
            ]
          },
          "metadata": {},
          "execution_count": 12
        }
      ]
    },
    {
      "cell_type": "code",
      "source": [
        "\n",
        "length = 60\n",
        "n_features = 1"
      ],
      "metadata": {
        "id": "8K95bCTU-Ab6"
      },
      "execution_count": 13,
      "outputs": []
    },
    {
      "cell_type": "code",
      "source": [
        "from tensorflow.keras import models\n",
        "from tensorflow.keras import layers"
      ],
      "metadata": {
        "id": "Wbakxhof-6Hs"
      },
      "execution_count": 14,
      "outputs": []
    },
    {
      "cell_type": "code",
      "source": [
        "model = models.Sequential()\n",
        "model.add(layers.SimpleRNN(10,input_shape=(length,n_features)))\n",
        "model.add(layers.Dense(1))\n",
        "model.compile(optimizer='adam', loss='mse')"
      ],
      "metadata": {
        "id": "AMP7q_sI-FUJ"
      },
      "execution_count": 15,
      "outputs": []
    },
    {
      "cell_type": "code",
      "source": [
        "model.summary()"
      ],
      "metadata": {
        "colab": {
          "base_uri": "https://localhost:8080/"
        },
        "id": "UDstttPb-j5h",
        "outputId": "5be498bc-e350-4c25-926e-622d1fc1ebcd"
      },
      "execution_count": 16,
      "outputs": [
        {
          "output_type": "stream",
          "name": "stdout",
          "text": [
            "Model: \"sequential\"\n",
            "_________________________________________________________________\n",
            " Layer (type)                Output Shape              Param #   \n",
            "=================================================================\n",
            " simple_rnn (SimpleRNN)      (None, 10)                120       \n",
            "                                                                 \n",
            " dense (Dense)               (None, 1)                 11        \n",
            "                                                                 \n",
            "=================================================================\n",
            "Total params: 131\n",
            "Trainable params: 131\n",
            "Non-trainable params: 0\n",
            "_________________________________________________________________\n"
          ]
        }
      ]
    },
    {
      "cell_type": "code",
      "source": [
        "model.fit(X_train1,y_train,epochs=100, batch_size=64)\n"
      ],
      "metadata": {
        "colab": {
          "base_uri": "https://localhost:8080/"
        },
        "id": "QgZA5YXi_FSu",
        "outputId": "89dfe769-52db-4780-b551-825255b6c5a7"
      },
      "execution_count": 17,
      "outputs": [
        {
          "output_type": "stream",
          "name": "stdout",
          "text": [
            "Epoch 1/100\n",
            "19/19 [==============================] - 7s 42ms/step - loss: 0.6012\n",
            "Epoch 2/100\n",
            "19/19 [==============================] - 1s 42ms/step - loss: 0.0675\n",
            "Epoch 3/100\n",
            "19/19 [==============================] - 1s 40ms/step - loss: 0.0369\n",
            "Epoch 4/100\n",
            "19/19 [==============================] - 1s 40ms/step - loss: 0.0210\n",
            "Epoch 5/100\n",
            "19/19 [==============================] - 1s 40ms/step - loss: 0.0091\n",
            "Epoch 6/100\n",
            "19/19 [==============================] - 1s 43ms/step - loss: 0.0046\n",
            "Epoch 7/100\n",
            "19/19 [==============================] - 1s 42ms/step - loss: 0.0043\n",
            "Epoch 8/100\n",
            "19/19 [==============================] - 1s 76ms/step - loss: 0.0039\n",
            "Epoch 9/100\n",
            "19/19 [==============================] - 2s 82ms/step - loss: 0.0037\n",
            "Epoch 10/100\n",
            "19/19 [==============================] - 1s 40ms/step - loss: 0.0034\n",
            "Epoch 11/100\n",
            "19/19 [==============================] - 1s 41ms/step - loss: 0.0031\n",
            "Epoch 12/100\n",
            "19/19 [==============================] - 1s 42ms/step - loss: 0.0029\n",
            "Epoch 13/100\n",
            "19/19 [==============================] - 1s 45ms/step - loss: 0.0026\n",
            "Epoch 14/100\n",
            "19/19 [==============================] - 1s 40ms/step - loss: 0.0024\n",
            "Epoch 15/100\n",
            "19/19 [==============================] - 1s 41ms/step - loss: 0.0022\n",
            "Epoch 16/100\n",
            "19/19 [==============================] - 1s 41ms/step - loss: 0.0020\n",
            "Epoch 17/100\n",
            "19/19 [==============================] - 1s 42ms/step - loss: 0.0017\n",
            "Epoch 18/100\n",
            "19/19 [==============================] - 1s 43ms/step - loss: 0.0016\n",
            "Epoch 19/100\n",
            "19/19 [==============================] - 1s 40ms/step - loss: 0.0014\n",
            "Epoch 20/100\n",
            "19/19 [==============================] - 1s 41ms/step - loss: 0.0013\n",
            "Epoch 21/100\n",
            "19/19 [==============================] - 1s 40ms/step - loss: 0.0012\n",
            "Epoch 22/100\n",
            "19/19 [==============================] - 1s 60ms/step - loss: 0.0012\n",
            "Epoch 23/100\n",
            "19/19 [==============================] - 2s 79ms/step - loss: 0.0011\n",
            "Epoch 24/100\n",
            "19/19 [==============================] - 1s 54ms/step - loss: 0.0011\n",
            "Epoch 25/100\n",
            "19/19 [==============================] - 1s 43ms/step - loss: 0.0010\n",
            "Epoch 26/100\n",
            "19/19 [==============================] - 1s 42ms/step - loss: 0.0010\n",
            "Epoch 27/100\n",
            "19/19 [==============================] - 1s 67ms/step - loss: 9.9452e-04\n",
            "Epoch 28/100\n",
            "19/19 [==============================] - 1s 66ms/step - loss: 9.9074e-04\n",
            "Epoch 29/100\n",
            "19/19 [==============================] - 1s 47ms/step - loss: 9.8850e-04\n",
            "Epoch 30/100\n",
            "19/19 [==============================] - 1s 42ms/step - loss: 9.6920e-04\n",
            "Epoch 31/100\n",
            "19/19 [==============================] - 1s 40ms/step - loss: 9.8071e-04\n",
            "Epoch 32/100\n",
            "19/19 [==============================] - 1s 39ms/step - loss: 9.5155e-04\n",
            "Epoch 33/100\n",
            "19/19 [==============================] - 1s 39ms/step - loss: 9.2688e-04\n",
            "Epoch 34/100\n",
            "19/19 [==============================] - 1s 43ms/step - loss: 9.4637e-04\n",
            "Epoch 35/100\n",
            "19/19 [==============================] - 1s 51ms/step - loss: 9.1607e-04\n",
            "Epoch 36/100\n",
            "19/19 [==============================] - 2s 84ms/step - loss: 9.1020e-04\n",
            "Epoch 37/100\n",
            "19/19 [==============================] - 1s 62ms/step - loss: 8.9129e-04\n",
            "Epoch 38/100\n",
            "19/19 [==============================] - 1s 41ms/step - loss: 8.9430e-04\n",
            "Epoch 39/100\n",
            "19/19 [==============================] - 1s 41ms/step - loss: 8.7990e-04\n",
            "Epoch 40/100\n",
            "19/19 [==============================] - 1s 41ms/step - loss: 8.7463e-04\n",
            "Epoch 41/100\n",
            "19/19 [==============================] - 1s 40ms/step - loss: 8.5542e-04\n",
            "Epoch 42/100\n",
            "19/19 [==============================] - 1s 40ms/step - loss: 8.6652e-04\n",
            "Epoch 43/100\n",
            "19/19 [==============================] - 1s 40ms/step - loss: 8.3564e-04\n",
            "Epoch 44/100\n",
            "19/19 [==============================] - 1s 40ms/step - loss: 8.3043e-04\n",
            "Epoch 45/100\n",
            "19/19 [==============================] - 1s 42ms/step - loss: 8.2155e-04\n",
            "Epoch 46/100\n",
            "19/19 [==============================] - 1s 40ms/step - loss: 8.1079e-04\n",
            "Epoch 47/100\n",
            "19/19 [==============================] - 1s 40ms/step - loss: 8.0917e-04\n",
            "Epoch 48/100\n",
            "19/19 [==============================] - 1s 41ms/step - loss: 8.5376e-04\n",
            "Epoch 49/100\n",
            "19/19 [==============================] - 1s 42ms/step - loss: 8.3913e-04\n",
            "Epoch 50/100\n",
            "19/19 [==============================] - 1s 72ms/step - loss: 7.9497e-04\n",
            "Epoch 51/100\n",
            "19/19 [==============================] - 2s 85ms/step - loss: 7.7151e-04\n",
            "Epoch 52/100\n",
            "19/19 [==============================] - 1s 44ms/step - loss: 7.6282e-04\n",
            "Epoch 53/100\n",
            "19/19 [==============================] - 1s 41ms/step - loss: 7.5543e-04\n",
            "Epoch 54/100\n",
            "19/19 [==============================] - 1s 41ms/step - loss: 7.6745e-04\n",
            "Epoch 55/100\n",
            "19/19 [==============================] - 1s 40ms/step - loss: 7.6282e-04\n",
            "Epoch 56/100\n",
            "19/19 [==============================] - 1s 40ms/step - loss: 7.6190e-04\n",
            "Epoch 57/100\n",
            "19/19 [==============================] - 1s 40ms/step - loss: 7.4256e-04\n",
            "Epoch 58/100\n",
            "19/19 [==============================] - 1s 40ms/step - loss: 7.3008e-04\n",
            "Epoch 59/100\n",
            "19/19 [==============================] - 1s 41ms/step - loss: 6.9646e-04\n",
            "Epoch 60/100\n",
            "19/19 [==============================] - 1s 41ms/step - loss: 6.9347e-04\n",
            "Epoch 61/100\n",
            "19/19 [==============================] - 1s 44ms/step - loss: 6.7859e-04\n",
            "Epoch 62/100\n",
            "19/19 [==============================] - 1s 40ms/step - loss: 6.8799e-04\n",
            "Epoch 63/100\n",
            "19/19 [==============================] - 1s 40ms/step - loss: 6.7614e-04\n",
            "Epoch 64/100\n",
            "19/19 [==============================] - 1s 44ms/step - loss: 6.5556e-04\n",
            "Epoch 65/100\n",
            "19/19 [==============================] - 2s 80ms/step - loss: 6.4911e-04\n",
            "Epoch 66/100\n",
            "19/19 [==============================] - 1s 73ms/step - loss: 6.3979e-04\n",
            "Epoch 67/100\n",
            "19/19 [==============================] - 1s 41ms/step - loss: 6.3634e-04\n",
            "Epoch 68/100\n",
            "19/19 [==============================] - 1s 41ms/step - loss: 6.3190e-04\n",
            "Epoch 69/100\n",
            "19/19 [==============================] - 1s 40ms/step - loss: 6.2608e-04\n",
            "Epoch 70/100\n",
            "19/19 [==============================] - 1s 40ms/step - loss: 6.1338e-04\n",
            "Epoch 71/100\n",
            "19/19 [==============================] - 1s 42ms/step - loss: 6.1778e-04\n",
            "Epoch 72/100\n",
            "19/19 [==============================] - 1s 42ms/step - loss: 5.9516e-04\n",
            "Epoch 73/100\n",
            "19/19 [==============================] - 1s 43ms/step - loss: 5.9056e-04\n",
            "Epoch 74/100\n",
            "19/19 [==============================] - 1s 40ms/step - loss: 5.8549e-04\n",
            "Epoch 75/100\n",
            "19/19 [==============================] - 1s 40ms/step - loss: 5.8392e-04\n",
            "Epoch 76/100\n",
            "19/19 [==============================] - 1s 41ms/step - loss: 5.7132e-04\n",
            "Epoch 77/100\n",
            "19/19 [==============================] - 1s 42ms/step - loss: 5.6451e-04\n",
            "Epoch 78/100\n",
            "19/19 [==============================] - 1s 42ms/step - loss: 5.5553e-04\n",
            "Epoch 79/100\n",
            "19/19 [==============================] - 1s 60ms/step - loss: 5.5639e-04\n",
            "Epoch 80/100\n",
            "19/19 [==============================] - 2s 85ms/step - loss: 5.5207e-04\n",
            "Epoch 81/100\n",
            "19/19 [==============================] - 1s 52ms/step - loss: 5.4125e-04\n",
            "Epoch 82/100\n",
            "19/19 [==============================] - 1s 42ms/step - loss: 5.2747e-04\n",
            "Epoch 83/100\n",
            "19/19 [==============================] - 1s 41ms/step - loss: 5.2760e-04\n",
            "Epoch 84/100\n",
            "19/19 [==============================] - 1s 42ms/step - loss: 5.5843e-04\n",
            "Epoch 85/100\n",
            "19/19 [==============================] - 1s 42ms/step - loss: 5.2476e-04\n",
            "Epoch 86/100\n",
            "19/19 [==============================] - 1s 41ms/step - loss: 5.1209e-04\n",
            "Epoch 87/100\n",
            "19/19 [==============================] - 1s 41ms/step - loss: 5.0789e-04\n",
            "Epoch 88/100\n",
            "19/19 [==============================] - 1s 42ms/step - loss: 5.0405e-04\n",
            "Epoch 89/100\n",
            "19/19 [==============================] - 1s 40ms/step - loss: 5.2852e-04\n",
            "Epoch 90/100\n",
            "19/19 [==============================] - 1s 40ms/step - loss: 4.9962e-04\n",
            "Epoch 91/100\n",
            "19/19 [==============================] - 1s 40ms/step - loss: 4.8971e-04\n",
            "Epoch 92/100\n",
            "19/19 [==============================] - 1s 42ms/step - loss: 4.9202e-04\n",
            "Epoch 93/100\n",
            "19/19 [==============================] - 1s 41ms/step - loss: 5.1749e-04\n",
            "Epoch 94/100\n",
            "19/19 [==============================] - 2s 81ms/step - loss: 4.7854e-04\n",
            "Epoch 95/100\n",
            "19/19 [==============================] - 2s 81ms/step - loss: 4.6784e-04\n",
            "Epoch 96/100\n",
            "19/19 [==============================] - 1s 43ms/step - loss: 4.6605e-04\n",
            "Epoch 97/100\n",
            "19/19 [==============================] - 1s 42ms/step - loss: 4.7256e-04\n",
            "Epoch 98/100\n",
            "19/19 [==============================] - 1s 45ms/step - loss: 4.6206e-04\n",
            "Epoch 99/100\n",
            "19/19 [==============================] - 1s 42ms/step - loss: 4.6146e-04\n",
            "Epoch 100/100\n",
            "19/19 [==============================] - 1s 40ms/step - loss: 4.5854e-04\n"
          ]
        },
        {
          "output_type": "execute_result",
          "data": {
            "text/plain": [
              "<keras.callbacks.History at 0x7f16410e1cd0>"
            ]
          },
          "metadata": {},
          "execution_count": 17
        }
      ]
    },
    {
      "cell_type": "code",
      "source": [
        "dataset_test = pd.read_csv('testset.csv')\n"
      ],
      "metadata": {
        "id": "_exaKFTs_IW1"
      },
      "execution_count": 18,
      "outputs": []
    },
    {
      "cell_type": "code",
      "source": [
        "test_set = dataset_test.iloc[:,1:2].values\n"
      ],
      "metadata": {
        "id": "DKznVo5qAb2G"
      },
      "execution_count": 19,
      "outputs": []
    },
    {
      "cell_type": "code",
      "source": [
        "test_set.shape\n"
      ],
      "metadata": {
        "colab": {
          "base_uri": "https://localhost:8080/"
        },
        "id": "zR8g473IAd51",
        "outputId": "10b49678-427b-44c3-d011-8b8f0230dcab"
      },
      "execution_count": 20,
      "outputs": [
        {
          "output_type": "execute_result",
          "data": {
            "text/plain": [
              "(125, 1)"
            ]
          },
          "metadata": {},
          "execution_count": 20
        }
      ]
    },
    {
      "cell_type": "code",
      "source": [
        "dataset_total = pd.concat((dataset_train['Open'],dataset_test['Open']),axis=0)\n"
      ],
      "metadata": {
        "id": "dX0EWQ5PAgZs"
      },
      "execution_count": 21,
      "outputs": []
    },
    {
      "cell_type": "code",
      "source": [
        "inputs = dataset_total.values\n",
        "inputs = inputs.reshape(-1,1)\n",
        "inputs_scaled=sc.transform(inputs)\n",
        "X_test = []\n",
        "for i in range(60,1384):\n",
        "  X_test.append(inputs_scaled[i-60:i,0])\n",
        "X_test = np.array(X_test)\n",
        "X_test = np.reshape(X_test,(X_test.shape[0], X_test.shape[1],1))"
      ],
      "metadata": {
        "id": "J0T_xU0yAjse"
      },
      "execution_count": 22,
      "outputs": []
    },
    {
      "cell_type": "code",
      "source": [
        "X_test.shape\n"
      ],
      "metadata": {
        "colab": {
          "base_uri": "https://localhost:8080/"
        },
        "id": "c0dJtwWLAm76",
        "outputId": "4c858b8d-2330-4dd4-fec7-70fe9a11e3b5"
      },
      "execution_count": 23,
      "outputs": [
        {
          "output_type": "execute_result",
          "data": {
            "text/plain": [
              "(1324, 60, 1)"
            ]
          },
          "metadata": {},
          "execution_count": 23
        }
      ]
    },
    {
      "cell_type": "code",
      "source": [
        "predicted_stock_price_scaled = model.predict(X_test)\n",
        "predicted_stock_price = sc.inverse_transform(predicted_stock_price_scaled)"
      ],
      "metadata": {
        "colab": {
          "base_uri": "https://localhost:8080/"
        },
        "id": "3u4dn4P5Ap1S",
        "outputId": "69da3709-dc11-4e36-e4f3-67e14bd45b7d"
      },
      "execution_count": 24,
      "outputs": [
        {
          "output_type": "stream",
          "name": "stdout",
          "text": [
            "42/42 [==============================] - 0s 7ms/step\n"
          ]
        }
      ]
    },
    {
      "cell_type": "code",
      "source": [
        "plt.plot(np.arange(0,1384),inputs, color='red', label = 'Test(Real) Google stock price')\n",
        "plt.plot(np.arange(60,1384),predicted_stock_price, color='blue', label = 'Predicted Google stock price')\n",
        "plt.title('Google Stock Price Prediction')\n",
        "plt.xlabel('Time')\n",
        "plt.ylabel('Google Stock Price')\n",
        "plt.legend()\n",
        "plt.show()"
      ],
      "metadata": {
        "colab": {
          "base_uri": "https://localhost:8080/",
          "height": 472
        },
        "id": "2jcM6it7A2um",
        "outputId": "05a21e63-a507-4b36-b7f5-f543276900ae"
      },
      "execution_count": 25,
      "outputs": [
        {
          "output_type": "display_data",
          "data": {
            "text/plain": [
              "<Figure size 640x480 with 1 Axes>"
            ],
            "image/png": "[encoded data removed]"
          },
          "metadata": {}
        }
      ]
    },
    {
      "cell_type": "code",
      "source": [],
      "metadata": {
        "id": "hfE7BRk3A_q1"
      },
      "execution_count": 25,
      "outputs": []
    }
  ]
}